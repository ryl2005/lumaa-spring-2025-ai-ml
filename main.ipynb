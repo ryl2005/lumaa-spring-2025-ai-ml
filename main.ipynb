{
 "cells": [
  {
   "cell_type": "code",
   "execution_count": 11,
   "id": "48900503-73dc-41e8-8bdc-b7ed0f42e98e",
   "metadata": {},
   "outputs": [],
   "source": [
    "import numpy as np\n",
    "import pandas as pd\n",
    "import re\n",
    "from sklearn.feature_extraction.text import TfidfVectorizer\n",
    "from sklearn.metrics.pairwise import cosine_similarity"
   ]
  },
  {
   "cell_type": "markdown",
   "id": "d2f65ddc-5b8d-48ee-aed4-c5551f6511b8",
   "metadata": {},
   "source": [
    "# Loading Dataset"
   ]
  },
  {
   "cell_type": "code",
   "execution_count": 12,
   "id": "f4d5518e-9fcc-43f4-9e42-7ac264ccb442",
   "metadata": {},
   "outputs": [
    {
     "name": "stdout",
     "output_type": "stream",
     "text": [
      "<class 'pandas.core.frame.DataFrame'>\n",
      "RangeIndex: 250 entries, 0 to 249\n",
      "Data columns (total 16 columns):\n",
      " #   Column              Non-Null Count  Dtype  \n",
      "---  ------              --------------  -----  \n",
      " 0   ranking of movie    250 non-null    int64  \n",
      " 1   movie name          250 non-null    object \n",
      " 2   Year                250 non-null    object \n",
      " 3   certificate         250 non-null    object \n",
      " 4   runtime             250 non-null    object \n",
      " 5   genre               250 non-null    object \n",
      " 6   RATING              250 non-null    float64\n",
      " 7   DETAIL ABOUT MOVIE  250 non-null    object \n",
      " 8   DIRECTOR            250 non-null    object \n",
      " 9   ACTOR 1             250 non-null    object \n",
      " 10  ACTOR 2             250 non-null    object \n",
      " 11  ACTOR 3             250 non-null    object \n",
      " 12  ACTOR 4             250 non-null    object \n",
      " 13  votes               250 non-null    int64  \n",
      " 14  metascore           218 non-null    float64\n",
      " 15  GROSS COLLECTION    214 non-null    object \n",
      "dtypes: float64(2), int64(2), object(12)\n",
      "memory usage: 31.4+ KB\n"
     ]
    }
   ],
   "source": [
    "df = pd.read_csv(\"imdb(MOVIES).csv\")\n",
    "df.info()\n",
    "\n",
    "df = df[['movie name ', 'DETAIL ABOUT MOVIE']]"
   ]
  },
  {
   "cell_type": "markdown",
   "id": "9a448b4c-abcc-4c81-93ab-9c6306cb5a77",
   "metadata": {},
   "source": [
    "# Preprocess data"
   ]
  },
  {
   "cell_type": "code",
   "execution_count": 13,
   "id": "bb6b6fd8-945a-43ea-9a57-42f4fa54e7e1",
   "metadata": {},
   "outputs": [],
   "source": [
    "def preprocess_text(text):\n",
    "    text = text.lower()  # Convert to lowercase\n",
    "    text = re.sub(r\"[^a-z0-9\\s]\", \"\", text)  # Removes punctuation & special characters\n",
    "    return text\n",
    "\n",
    "df[\"cleaned_description\"] = df[\"DETAIL ABOUT MOVIE\"].apply(preprocess_text)"
   ]
  },
  {
   "cell_type": "code",
   "execution_count": 14,
   "id": "46bb23b1-ba34-40b8-b139-3c826705f5a8",
   "metadata": {},
   "outputs": [],
   "source": [
    "# TF-IDF Vectorization\n",
    "vectorizer = TfidfVectorizer(stop_words=\"english\")\n",
    "tfidf_matrix = vectorizer.fit_transform(df[\"cleaned_description\"])\n",
    "\n",
    "def find_similar_movies(user_description, top_n=5):\n",
    "    user_vec = vectorizer.transform([user_description])\n",
    "    similarities = cosine_similarity(user_vec, tfidf_matrix).flatten()\n",
    "    \n",
    "    # Get indices of top N most similar movies\n",
    "    top_indices = similarities.argsort()[-top_n:][::-1]\n",
    "    \n",
    "    # Return top N movie names and their similarities\n",
    "    similar_movies = [(df.iloc[i][\"movie name \"], similarities[i]) for i in top_indices]\n",
    "    return similar_movies"
   ]
  },
  {
   "cell_type": "code",
   "execution_count": 16,
   "id": "47a1eda2-95f6-438e-b7d0-56d451733012",
   "metadata": {},
   "outputs": [
    {
     "name": "stdin",
     "output_type": "stream",
     "text": [
      "Enter a movie description that you would like a movie recommendation for:  I like romance movies with a cute couple\n"
     ]
    },
    {
     "name": "stdout",
     "output_type": "stream",
     "text": [
      "It's a Wonderful Life: Similarity = 0.2078\n",
      "Tokyo Story: Similarity = 0.1703\n",
      "Eternal Sunshine of the Spotless Mind: Similarity = 0.1559\n",
      "The Apartment: Similarity = 0.1548\n",
      "Gone with the Wind: Similarity = 0.1488\n"
     ]
    }
   ],
   "source": [
    "user_input = input(\"Enter a movie description that you would like a movie recommendation for: \")\n",
    "recommended_movies = find_similar_movies(user_input)\n",
    "for movie, score in recommended_movies:\n",
    "    print(f\"{movie}: Similarity = {score:.4f}\")"
   ]
  },
  {
   "cell_type": "code",
   "execution_count": null,
   "id": "a4b2d24d-3b1f-4875-881c-d4c05d468223",
   "metadata": {},
   "outputs": [],
   "source": []
  }
 ],
 "metadata": {
  "kernelspec": {
   "display_name": "Python 3 (ipykernel)",
   "language": "python",
   "name": "python3"
  },
  "language_info": {
   "codemirror_mode": {
    "name": "ipython",
    "version": 3
   },
   "file_extension": ".py",
   "mimetype": "text/x-python",
   "name": "python",
   "nbconvert_exporter": "python",
   "pygments_lexer": "ipython3",
   "version": "3.11.3"
  }
 },
 "nbformat": 4,
 "nbformat_minor": 5
}
