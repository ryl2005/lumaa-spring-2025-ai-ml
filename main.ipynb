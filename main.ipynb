{
 "cells": [
  {
   "cell_type": "code",
   "execution_count": 18,
   "id": "48900503-73dc-41e8-8bdc-b7ed0f42e98e",
   "metadata": {},
   "outputs": [],
   "source": [
    "import numpy as np\n",
    "import pandas as pd\n",
    "from sklearn.feature_extraction.text import TfidfVectorizer\n",
    "from sklearn.metrics.pairwise import cosine_similarity"
   ]
  },
  {
   "cell_type": "code",
   "execution_count": null,
   "id": "19f848fd-e631-4791-ad48-b3de4e721d78",
   "metadata": {},
   "outputs": [],
   "source": [
    "# Loading dataset"
   ]
  },
  {
   "cell_type": "code",
   "execution_count": 36,
   "id": "f4d5518e-9fcc-43f4-9e42-7ac264ccb442",
   "metadata": {},
   "outputs": [
    {
     "name": "stdout",
     "output_type": "stream",
     "text": [
      "<class 'pandas.core.frame.DataFrame'>\n",
      "RangeIndex: 250 entries, 0 to 249\n",
      "Data columns (total 16 columns):\n",
      " #   Column              Non-Null Count  Dtype  \n",
      "---  ------              --------------  -----  \n",
      " 0   ranking of movie    250 non-null    int64  \n",
      " 1   movie name          250 non-null    object \n",
      " 2   Year                250 non-null    object \n",
      " 3   certificate         250 non-null    object \n",
      " 4   runtime             250 non-null    object \n",
      " 5   genre               250 non-null    object \n",
      " 6   RATING              250 non-null    float64\n",
      " 7   DETAIL ABOUT MOVIE  250 non-null    object \n",
      " 8   DIRECTOR            250 non-null    object \n",
      " 9   ACTOR 1             250 non-null    object \n",
      " 10  ACTOR 2             250 non-null    object \n",
      " 11  ACTOR 3             250 non-null    object \n",
      " 12  ACTOR 4             250 non-null    object \n",
      " 13  votes               250 non-null    int64  \n",
      " 14  metascore           218 non-null    float64\n",
      " 15  GROSS COLLECTION    214 non-null    object \n",
      "dtypes: float64(2), int64(2), object(12)\n",
      "memory usage: 31.4+ KB\n"
     ]
    }
   ],
   "source": [
    "df = pd.read_csv(\"imdb(MOVIES).csv\")\n",
    "df.info()\n",
    "\n",
    "df = df[['movie name ', 'DETAIL ABOUT MOVIE']]"
   ]
  },
  {
   "cell_type": "code",
   "execution_count": 39,
   "id": "46bb23b1-ba34-40b8-b139-3c826705f5a8",
   "metadata": {},
   "outputs": [],
   "source": [
    "# TF-IDF Vectorization\n",
    "vectorizer = TfidfVectorizer(stop_words=\"english\")\n",
    "tfidf_matrix = vectorizer.fit_transform(df[\"DETAIL ABOUT MOVIE\"])\n",
    "\n",
    "def find_similar_movies(user_description, top_n=5):\n",
    "    user_vec = vectorizer.transform([user_description])\n",
    "    similarities = cosine_similarity(user_vec, tfidf_matrix).flatten()\n",
    "    \n",
    "    # Get indices of top N most similar movies\n",
    "    top_indices = similarities.argsort()[-top_n:][::-1]\n",
    "    \n",
    "    # Return top N movie names and their similarities\n",
    "    similar_movies = [(df.iloc[i][\"movie name \"], similarities[i]) for i in top_indices]\n",
    "    return similar_movies"
   ]
  },
  {
   "cell_type": "code",
   "execution_count": 41,
   "id": "47a1eda2-95f6-438e-b7d0-56d451733012",
   "metadata": {},
   "outputs": [
    {
     "name": "stdin",
     "output_type": "stream",
     "text": [
      "Enter a movie description that you would like a movie recommendation for:  I like action movies set in space\n"
     ]
    },
    {
     "name": "stdout",
     "output_type": "stream",
     "text": [
      "It's a Wonderful Life: Similarity = 0.1849\n",
      "Aliens: Similarity = 0.1620\n",
      "Saving Private Ryan: Similarity = 0.1468\n",
      "Bicycle Thieves: Similarity = 0.1396\n",
      "Taxi Driver: Similarity = 0.1278\n"
     ]
    }
   ],
   "source": [
    "user_input = input(\"Enter a movie description that you would like a movie recommendation for: \")\n",
    "recommended_movies = find_similar_movies(user_input)\n",
    "for movie, score in recommended_movies:\n",
    "    print(f\"{movie}: Similarity = {score:.4f}\")"
   ]
  }
 ],
 "metadata": {
  "kernelspec": {
   "display_name": "Python 3 (ipykernel)",
   "language": "python",
   "name": "python3"
  },
  "language_info": {
   "codemirror_mode": {
    "name": "ipython",
    "version": 3
   },
   "file_extension": ".py",
   "mimetype": "text/x-python",
   "name": "python",
   "nbconvert_exporter": "python",
   "pygments_lexer": "ipython3",
   "version": "3.11.3"
  }
 },
 "nbformat": 4,
 "nbformat_minor": 5
}
